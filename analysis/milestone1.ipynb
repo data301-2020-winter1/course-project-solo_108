{
 "cells": [
  {
   "cell_type": "code",
   "execution_count": 3,
   "metadata": {
    "collapsed": true,
    "pycharm": {
     "name": "#%%\n"
    }
   },
   "outputs": [
    {
     "data": {
      "text/plain": "        match_id  duration  first_blood_time  dire_score  radiant_score  \\\n0     4558553516      1597               181        20.0           47.0   \n1     4558404906      1965               217        32.0           32.0   \n2     4558138970      1945                 0        53.0           28.0   \n3     4557908303      1476                 0        11.0           41.0   \n4     4557668178      1411                 0        12.0           35.0   \n...          ...       ...               ...         ...            ...   \n9995   926832038      2095               273         NaN            NaN   \n9996   926671017      2921                38         NaN            NaN   \n9997   926531092      3041                32         NaN            NaN   \n9998   926399722      2991                48         NaN            NaN   \n9999   926311068      1961               202         NaN            NaN   \n\n      radiant_win                                            players  \n0             1.0  [{'player_slot': 0, 'hero_id': 54, 'assists': ...  \n1             0.0  [{'player_slot': 0, 'hero_id': 111, 'assists':...  \n2             0.0  [{'player_slot': 0, 'hero_id': 120, 'assists':...  \n3             1.0  [{'player_slot': 0, 'hero_id': 47, 'assists': ...  \n4             1.0  [{'player_slot': 0, 'hero_id': 10, 'assists': ...  \n...           ...                                                ...  \n9995          0.0  [{'player_slot': 0, 'hero_id': 11, 'assists': ...  \n9996          0.0  [{'player_slot': 0, 'hero_id': 47, 'assists': ...  \n9997          0.0  [{'player_slot': 0, 'hero_id': 77, 'assists': ...  \n9998          0.0  [{'player_slot': 0, 'hero_id': 4, 'assists': 1...  \n9999          0.0  [{'player_slot': 0, 'hero_id': 12, 'assists': ...  \n\n[10000 rows x 7 columns]",
      "text/html": "<div>\n<style scoped>\n    .dataframe tbody tr th:only-of-type {\n        vertical-align: middle;\n    }\n\n    .dataframe tbody tr th {\n        vertical-align: top;\n    }\n\n    .dataframe thead th {\n        text-align: right;\n    }\n</style>\n<table border=\"1\" class=\"dataframe\">\n  <thead>\n    <tr style=\"text-align: right;\">\n      <th></th>\n      <th>match_id</th>\n      <th>duration</th>\n      <th>first_blood_time</th>\n      <th>dire_score</th>\n      <th>radiant_score</th>\n      <th>radiant_win</th>\n      <th>players</th>\n    </tr>\n  </thead>\n  <tbody>\n    <tr>\n      <th>0</th>\n      <td>4558553516</td>\n      <td>1597</td>\n      <td>181</td>\n      <td>20.0</td>\n      <td>47.0</td>\n      <td>1.0</td>\n      <td>[{'player_slot': 0, 'hero_id': 54, 'assists': ...</td>\n    </tr>\n    <tr>\n      <th>1</th>\n      <td>4558404906</td>\n      <td>1965</td>\n      <td>217</td>\n      <td>32.0</td>\n      <td>32.0</td>\n      <td>0.0</td>\n      <td>[{'player_slot': 0, 'hero_id': 111, 'assists':...</td>\n    </tr>\n    <tr>\n      <th>2</th>\n      <td>4558138970</td>\n      <td>1945</td>\n      <td>0</td>\n      <td>53.0</td>\n      <td>28.0</td>\n      <td>0.0</td>\n      <td>[{'player_slot': 0, 'hero_id': 120, 'assists':...</td>\n    </tr>\n    <tr>\n      <th>3</th>\n      <td>4557908303</td>\n      <td>1476</td>\n      <td>0</td>\n      <td>11.0</td>\n      <td>41.0</td>\n      <td>1.0</td>\n      <td>[{'player_slot': 0, 'hero_id': 47, 'assists': ...</td>\n    </tr>\n    <tr>\n      <th>4</th>\n      <td>4557668178</td>\n      <td>1411</td>\n      <td>0</td>\n      <td>12.0</td>\n      <td>35.0</td>\n      <td>1.0</td>\n      <td>[{'player_slot': 0, 'hero_id': 10, 'assists': ...</td>\n    </tr>\n    <tr>\n      <th>...</th>\n      <td>...</td>\n      <td>...</td>\n      <td>...</td>\n      <td>...</td>\n      <td>...</td>\n      <td>...</td>\n      <td>...</td>\n    </tr>\n    <tr>\n      <th>9995</th>\n      <td>926832038</td>\n      <td>2095</td>\n      <td>273</td>\n      <td>NaN</td>\n      <td>NaN</td>\n      <td>0.0</td>\n      <td>[{'player_slot': 0, 'hero_id': 11, 'assists': ...</td>\n    </tr>\n    <tr>\n      <th>9996</th>\n      <td>926671017</td>\n      <td>2921</td>\n      <td>38</td>\n      <td>NaN</td>\n      <td>NaN</td>\n      <td>0.0</td>\n      <td>[{'player_slot': 0, 'hero_id': 47, 'assists': ...</td>\n    </tr>\n    <tr>\n      <th>9997</th>\n      <td>926531092</td>\n      <td>3041</td>\n      <td>32</td>\n      <td>NaN</td>\n      <td>NaN</td>\n      <td>0.0</td>\n      <td>[{'player_slot': 0, 'hero_id': 77, 'assists': ...</td>\n    </tr>\n    <tr>\n      <th>9998</th>\n      <td>926399722</td>\n      <td>2991</td>\n      <td>48</td>\n      <td>NaN</td>\n      <td>NaN</td>\n      <td>0.0</td>\n      <td>[{'player_slot': 0, 'hero_id': 4, 'assists': 1...</td>\n    </tr>\n    <tr>\n      <th>9999</th>\n      <td>926311068</td>\n      <td>1961</td>\n      <td>202</td>\n      <td>NaN</td>\n      <td>NaN</td>\n      <td>0.0</td>\n      <td>[{'player_slot': 0, 'hero_id': 12, 'assists': ...</td>\n    </tr>\n  </tbody>\n</table>\n<p>10000 rows × 7 columns</p>\n</div>"
     },
     "execution_count": 3,
     "metadata": {},
     "output_type": "execute_result"
    }
   ],
   "source": [
    "import pandas as pd\n",
    "\n",
    "df = pd.read_json(\"../data/raw/matches_sample.json\", lines=True)\n",
    "df\n",
    "\n"
   ]
  }
 ],
 "metadata": {
  "kernelspec": {
   "name": "pycharm-643c2fb8",
   "language": "python",
   "display_name": "PyCharm (course-project-solo_108)"
  },
  "language_info": {
   "codemirror_mode": {
    "name": "ipython",
    "version": 2
   },
   "file_extension": ".py",
   "mimetype": "text/x-python",
   "name": "python",
   "nbconvert_exporter": "python",
   "pygments_lexer": "ipython2",
   "version": "2.7.6"
  }
 },
 "nbformat": 4,
 "nbformat_minor": 0
}