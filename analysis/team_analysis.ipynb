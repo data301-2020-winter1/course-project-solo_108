{
 "cells": [
  {
   "cell_type": "code",
   "execution_count": 1,
   "outputs": [
    {
     "name": "stderr",
     "output_type": "stream",
     "text": [
      "c:\\users\\keyvan\\desktop\\ubc\\cosc 301\\course-project-solo_108\\venv\\lib\\site-packages\\pandas\\core\\generic.py:3887: PerformanceWarning: dropping on a non-lexsorted multi-index without a level parameter may impact performance.\n",
      "  obj = obj._drop_axis(labels, axis, level=level, errors=errors)\n"
     ]
    }
   ],
   "source": [
    "from analysis.project_functions import *\n",
    "process_and_save_data(\"../data/raw/matches.json\")"
   ],
   "metadata": {
    "collapsed": false,
    "pycharm": {
     "name": "#%%\n"
    }
   }
  },
  {
   "cell_type": "code",
   "execution_count": 1,
   "metadata": {
    "collapsed": true
   },
   "outputs": [
    {
     "name": "stdout",
     "output_type": "stream",
     "text": [
      "       duration  first_blood_time  dire_kills  radiant_kills  radiant_win\n",
      "0          1597               181        20.0           47.0         True\n",
      "1          1965               217        32.0           32.0        False\n",
      "2          1945                 0        53.0           28.0        False\n",
      "3          1476                 0        11.0           41.0         True\n",
      "4          1411                 0        12.0           35.0         True\n",
      "...         ...               ...         ...            ...          ...\n",
      "32031      2101               229        20.0           54.0         True\n",
      "32032      3060               197        55.0           41.0        False\n",
      "32033      2333                36        51.0           36.0        False\n",
      "32034      3053                73        43.0           54.0         True\n",
      "32035      1465                31        18.0           30.0         True\n",
      "\n",
      "[32036 rows x 5 columns]\n",
      "        hero_id  assists  kills  deaths  gpm  xpm    win\n",
      "0            54       12      7       4  669  740  False\n",
      "1            18       18      8       4  551  694  False\n",
      "2            87       21      4       5  343  416  False\n",
      "3            52       18      6       6  414  448  False\n",
      "4           106       12     22       1  701  901  False\n",
      "...         ...      ...    ...     ...  ...  ...    ...\n",
      "320355       25        5      7       7  441  511   True\n",
      "320356       14        8      4       9  237  291   True\n",
      "320357       37        7      2       5  213  235   True\n",
      "320358       44        5      5       5  433  452   True\n",
      "320359       57        4      0       5  287  283   True\n",
      "\n",
      "[320360 rows x 7 columns]\n",
      "      player1  player2  count   winrate\n",
      "1        46.0     83.0  113.0  0.300885\n",
      "2        83.0     46.0  113.0  0.300885\n",
      "3        22.0     36.0  114.0  0.324561\n",
      "4        36.0     22.0  114.0  0.324561\n",
      "5        57.0     60.0  140.0  0.350000\n",
      "...       ...      ...    ...       ...\n",
      "5092     21.0     27.0  125.0  0.656000\n",
      "5093    106.0    119.0  101.0  0.663366\n",
      "5094    119.0    106.0  101.0  0.663366\n",
      "5095     16.0      7.0  102.0  0.676471\n",
      "5096      7.0     16.0  102.0  0.676471\n",
      "\n",
      "[5096 rows x 4 columns]\n"
     ]
    }
   ],
   "source": [
    "from analysis.project_functions import *\n",
    "matches_df, players_df, pair_players_df = load_processed_data()\n",
    "print(matches_df)\n",
    "print(players_df)\n",
    "print(pair_players_df)"
   ]
  },
  {
   "cell_type": "markdown",
   "source": [
    "## Players in teams\n",
    "To address the issue I created a new dataframe which includes the winrate\n",
    "of 2 heroes when they play together. Here is a heatmap for the heroes\n",
    "that have the best winrates together."
   ],
   "metadata": {
    "collapsed": false
   }
  },
  {
   "cell_type": "code",
   "execution_count": 2,
   "outputs": [
    {
     "data": {
      "text/plain": "<Figure size 432x288 with 2 Axes>",
      "image/png": "[encoded data removed]"
     },
     "metadata": {
      "needs_background": "light"
     },
     "output_type": "display_data"
    }
   ],
   "source": [
    "plot = player_synergy_heatmap(pair_players_df)\n"
   ],
   "metadata": {
    "collapsed": false,
    "pycharm": {
     "name": "#%%\n"
    }
   }
  },
  {
   "cell_type": "markdown",
   "source": [
    "## Improved answer to the research question\n",
    "\n",
    "To find the best team this time I tried to find the 5 heroes where their paired\n",
    "winrate is maximized meaning the sum of their winrates (10 pairs for each team)\n",
    "is maximized. The normal brute force algorithm was too slow as there are C(117, 5)\n",
    "combinations which is roughly 10<sup>8</sup>.\n",
    "\n",
    "We can reduce this problem in graph theory to find the sub graph of size k\n",
    "which has the maximum edge weight sum. As this problem is NP we can't find\n",
    "the best solution so I came up with an approx algorithm from the following algorithms.\n",
    "\n",
    "* [Kruskal's algorithm](https://en.wikipedia.org/wiki/Kruskal%27s_algorithm)\n",
    "* [Minimum spanning tree](https://en.wikipedia.org/wiki/Minimum_spanning_tree)\n",
    "* [Disjoint-set data structure](https://en.wikipedia.org/wiki/Disjoint-set_data_structure)\n",
    "* [Depth-first search](https://en.wikipedia.org/wiki/Depth-first_search)\n"
   ],
   "metadata": {
    "collapsed": false,
    "pycharm": {
     "name": "#%% md\n"
    }
   }
  },
  {
   "cell_type": "code",
   "execution_count": 3,
   "outputs": [
    {
     "data": {
      "text/plain": "[97.0, 74.0, 114.0, 87.0, 95.0]"
     },
     "execution_count": 3,
     "metadata": {},
     "output_type": "execute_result"
    }
   ],
   "source": [
    "from analysis.graph import get_best_combination\n",
    "get_best_combination(pair_players_df)"
   ],
   "metadata": {
    "collapsed": false,
    "pycharm": {
     "name": "#%%\n"
    }
   }
  },
  {
   "cell_type": "markdown",
   "source": [
    "## The result\n",
    "\n",
    "Our dream team:\n",
    "* Magnus\n",
    "* Invoker\n",
    "* Monkey King\n",
    "* Disruptor\n",
    "* Troll Warlord\n",
    "\n",
    "Tbh, I was shocked when I saw the result. The algorithm found the team\n",
    "that has every role in it without explicitly trying to do so. The team is actually\n",
    "really good, i can't see anything wrong with this team."
   ],
   "metadata": {
    "collapsed": false
   }
  }
 ],
 "metadata": {
  "kernelspec": {
   "display_name": "Python 3",
   "language": "python",
   "name": "python3"
  },
  "language_info": {
   "codemirror_mode": {
    "name": "ipython",
    "version": 2
   },
   "file_extension": ".py",
   "mimetype": "text/x-python",
   "name": "python",
   "nbconvert_exporter": "python",
   "pygments_lexer": "ipython2",
   "version": "2.7.6"
  }
 },
 "nbformat": 4,
 "nbformat_minor": 0
}